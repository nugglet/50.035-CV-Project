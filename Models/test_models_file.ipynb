{
 "cells": [
  {
   "cell_type": "code",
   "execution_count": null,
   "metadata": {},
   "outputs": [],
   "source": [
    "import models\n",
    "\n",
    "import os\n",
    "import torch\n",
    "\n",
    "# Global Vars\n",
    "path = '../Datasets/ImageNet-Sketch/sketch'\n",
    "custom_path = '../Datasets/Custom/Imagenet-Sketch'\n",
    "\n",
    "batch_size = 32\n",
    "accumulation = 8\n",
    "epochs = 1\n",
    "print_every = 500"
   ]
  },
  {
   "cell_type": "code",
   "execution_count": null,
   "metadata": {},
   "outputs": [],
   "source": [
    "res_model_basic = models.CNNClassifier('resnet', path, 'res_basic', batch_size=batch_size, accumulation=accumulation, num_epochs=epochs, print_every=print_every)\n",
    "res_model_basic.train()"
   ]
  },
  {
   "cell_type": "code",
   "execution_count": null,
   "metadata": {},
   "outputs": [],
   "source": [
    "alex_model_basic = models.CNNClassifier('alexnet', path, 'alex_basic', batch_size=batch_size, num_epochs=epochs, print_every=print_every)\n",
    "alex_model_basic.train()"
   ]
  },
  {
   "cell_type": "code",
   "execution_count": null,
   "metadata": {},
   "outputs": [],
   "source": [
    "# with colour distortion\n",
    "res_model_colour = models.CNNClassifier('resnet', path, 'res_colour', batch_size=batch_size, num_epochs=epochs, print_every=print_every, colour_distort=True)\n",
    "res_model_colour.train()"
   ]
  },
  {
   "cell_type": "code",
   "execution_count": null,
   "metadata": {},
   "outputs": [],
   "source": [
    "# with colour distortion\n",
    "alex_model_colour = models.CNNClassifier('alexnet', path, 'alex_colour', batch_size=batch_size, num_epochs=epochs, print_every=print_every, colour_distort=True)\n",
    "alex_model_colour.train()"
   ]
  }
 ],
 "metadata": {
  "interpreter": {
   "hash": "72595be4ea15549328747a62d7632306f334cff511fe79c2306ce58b7e7768b4"
  },
  "kernelspec": {
   "display_name": "Python 3.9.7 ('CV')",
   "language": "python",
   "name": "python3"
  },
  "language_info": {
   "codemirror_mode": {
    "name": "ipython",
    "version": 3
   },
   "file_extension": ".py",
   "mimetype": "text/x-python",
   "name": "python",
   "nbconvert_exporter": "python",
   "pygments_lexer": "ipython3",
   "version": "3.9.7"
  },
  "orig_nbformat": 4
 },
 "nbformat": 4,
 "nbformat_minor": 2
}
