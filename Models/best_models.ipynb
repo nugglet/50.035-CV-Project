{
 "cells": [
  {
   "cell_type": "markdown",
   "metadata": {},
   "source": [
    "# Best Trained Models"
   ]
  },
  {
   "cell_type": "code",
   "execution_count": 1,
   "metadata": {},
   "outputs": [],
   "source": [
    "import models\n",
    "\n",
    "# Global Vars\n",
    "path = '../Datasets/ImageNet-Sketch/sketch'\n",
    "# path = '../Datasets/Custom/Imagenet-Sketch'\n",
    "\n",
    "args = {'val_data_path': '../Datasets/Custom/Imagenet-Sketch',\n",
    "        'batch_size': 32,\n",
    "        'num_epochs' : 1,\n",
    "        'print_every': 500,\n",
    "        'save_model': False\n",
    "}"
   ]
  },
  {
   "cell_type": "code",
   "execution_count": 2,
   "metadata": {},
   "outputs": [
    {
     "name": "stdout",
     "output_type": "stream",
     "text": [
      "CUDA available\n",
      "NVIDIA GeForce RTX 3060 Ti\n",
      "Memory Usage:\n",
      "Allocated: 0.0 GB\n",
      "Cached:    0.0 GB\n"
     ]
    },
    {
     "name": "stderr",
     "output_type": "stream",
     "text": [
      "Using cache found in C:\\Users\\Admin/.cache\\torch\\hub\\pytorch_vision_v0.10.0\n"
     ]
    },
    {
     "name": "stdout",
     "output_type": "stream",
     "text": [
      "=> loading checkpoint './checkpoints/alex_basic_model_best.pth.tar'\n",
      "=> loaded checkpoint './checkpoints/alex_basic_model_best.pth.tar' (epoch 48)\n",
      "Created model: alexnet\n"
     ]
    }
   ],
   "source": [
    "trained_model = models.CNNClassifier('alexnet', path, 'temp', resume='./checkpoints/alex_basic_model_best.pth.tar', **args)"
   ]
  },
  {
   "cell_type": "code",
   "execution_count": 3,
   "metadata": {},
   "outputs": [
    {
     "name": "stdout",
     "output_type": "stream",
     "text": [
      "CUDA available\n",
      "NVIDIA GeForce RTX 3060 Ti\n",
      "Memory Usage:\n",
      "Allocated: 0.5 GB\n",
      "Cached:    0.9 GB\n"
     ]
    },
    {
     "name": "stderr",
     "output_type": "stream",
     "text": [
      "Using cache found in C:\\Users\\Admin/.cache\\torch\\hub\\pytorch_vision_v0.10.0\n"
     ]
    },
    {
     "name": "stdout",
     "output_type": "stream",
     "text": [
      "=> loading checkpoint './checkpoints/alex_colour_model_best.pth.tar'\n",
      "=> loaded checkpoint './checkpoints/alex_colour_model_best.pth.tar' (epoch 49)\n",
      "Created model: alexnet\n"
     ]
    }
   ],
   "source": [
    "trained_model = models.CNNClassifier('alexnet', path, 'temp', resume='./checkpoints/alex_colour_model_best.pth.tar', **args)"
   ]
  },
  {
   "cell_type": "code",
   "execution_count": 4,
   "metadata": {},
   "outputs": [
    {
     "name": "stdout",
     "output_type": "stream",
     "text": [
      "CUDA available\n",
      "NVIDIA GeForce RTX 3060 Ti\n",
      "Memory Usage:\n",
      "Allocated: 0.5 GB\n",
      "Cached:    1.4 GB\n"
     ]
    },
    {
     "name": "stderr",
     "output_type": "stream",
     "text": [
      "Using cache found in C:\\Users\\Admin/.cache\\torch\\hub\\pytorch_vision_v0.10.0\n"
     ]
    },
    {
     "name": "stdout",
     "output_type": "stream",
     "text": [
      "=> loading checkpoint './checkpoints/alex_blur_model_best.pth.tar'\n",
      "=> loaded checkpoint './checkpoints/alex_blur_model_best.pth.tar' (epoch 50)\n",
      "Created model: alexnet\n"
     ]
    }
   ],
   "source": [
    "trained_model = models.CNNClassifier('alexnet', path, 'temp', resume='./checkpoints/alex_blur_model_best.pth.tar', **args)"
   ]
  },
  {
   "cell_type": "code",
   "execution_count": 5,
   "metadata": {},
   "outputs": [
    {
     "name": "stdout",
     "output_type": "stream",
     "text": [
      "CUDA available\n",
      "NVIDIA GeForce RTX 3060 Ti\n",
      "Memory Usage:\n",
      "Allocated: 0.5 GB\n",
      "Cached:    1.4 GB\n"
     ]
    },
    {
     "name": "stderr",
     "output_type": "stream",
     "text": [
      "Using cache found in C:\\Users\\Admin/.cache\\torch\\hub\\pytorch_vision_v0.10.0\n"
     ]
    },
    {
     "name": "stdout",
     "output_type": "stream",
     "text": [
      "=> loading checkpoint './checkpoints/alex_noise_model_best.pth.tar'\n",
      "=> loaded checkpoint './checkpoints/alex_noise_model_best.pth.tar' (epoch 50)\n",
      "Created model: alexnet\n"
     ]
    }
   ],
   "source": [
    "trained_model = models.CNNClassifier('alexnet', path, 'temp', resume='./checkpoints/alex_noise_model_best.pth.tar', **args)"
   ]
  },
  {
   "cell_type": "code",
   "execution_count": 6,
   "metadata": {},
   "outputs": [
    {
     "name": "stdout",
     "output_type": "stream",
     "text": [
      "CUDA available\n",
      "NVIDIA GeForce RTX 3060 Ti\n",
      "Memory Usage:\n",
      "Allocated: 0.5 GB\n",
      "Cached:    1.4 GB\n"
     ]
    },
    {
     "name": "stderr",
     "output_type": "stream",
     "text": [
      "Using cache found in C:\\Users\\Admin/.cache\\torch\\hub\\pytorch_vision_v0.10.0\n"
     ]
    },
    {
     "name": "stdout",
     "output_type": "stream",
     "text": [
      "=> loading checkpoint './checkpoints/res_basic_model_best.pth.tar'\n",
      "=> loaded checkpoint './checkpoints/res_basic_model_best.pth.tar' (epoch 46)\n",
      "Created model: resnet\n"
     ]
    }
   ],
   "source": [
    "trained_model = models.CNNClassifier('resnet', path, 'temp', resume='./checkpoints/res_basic_model_best.pth.tar', **args)"
   ]
  },
  {
   "cell_type": "code",
   "execution_count": 7,
   "metadata": {},
   "outputs": [
    {
     "name": "stdout",
     "output_type": "stream",
     "text": [
      "CUDA available\n",
      "NVIDIA GeForce RTX 3060 Ti\n",
      "Memory Usage:\n",
      "Allocated: 0.2 GB\n",
      "Cached:    1.4 GB\n"
     ]
    },
    {
     "name": "stderr",
     "output_type": "stream",
     "text": [
      "Using cache found in C:\\Users\\Admin/.cache\\torch\\hub\\pytorch_vision_v0.10.0\n"
     ]
    },
    {
     "name": "stdout",
     "output_type": "stream",
     "text": [
      "=> loading checkpoint './checkpoints/res_colour_model_best.pth.tar'\n",
      "=> loaded checkpoint './checkpoints/res_colour_model_best.pth.tar' (epoch 45)\n",
      "Created model: resnet\n"
     ]
    }
   ],
   "source": [
    "trained_model = models.CNNClassifier('resnet', path, 'temp', resume='./checkpoints/res_colour_model_best.pth.tar', **args)"
   ]
  },
  {
   "cell_type": "code",
   "execution_count": 8,
   "metadata": {},
   "outputs": [
    {
     "name": "stdout",
     "output_type": "stream",
     "text": [
      "CUDA available\n",
      "NVIDIA GeForce RTX 3060 Ti\n",
      "Memory Usage:\n",
      "Allocated: 0.2 GB\n",
      "Cached:    1.5 GB\n"
     ]
    },
    {
     "name": "stderr",
     "output_type": "stream",
     "text": [
      "Using cache found in C:\\Users\\Admin/.cache\\torch\\hub\\pytorch_vision_v0.10.0\n"
     ]
    },
    {
     "name": "stdout",
     "output_type": "stream",
     "text": [
      "=> loading checkpoint './checkpoints/res_blur_model_best.pth.tar'\n",
      "=> loaded checkpoint './checkpoints/res_blur_model_best.pth.tar' (epoch 48)\n",
      "Created model: resnet\n"
     ]
    }
   ],
   "source": [
    "trained_model = models.CNNClassifier('resnet', path, 'temp', resume='./checkpoints/res_blur_model_best.pth.tar', **args)"
   ]
  },
  {
   "cell_type": "code",
   "execution_count": 9,
   "metadata": {},
   "outputs": [
    {
     "name": "stdout",
     "output_type": "stream",
     "text": [
      "CUDA available\n",
      "NVIDIA GeForce RTX 3060 Ti\n",
      "Memory Usage:\n",
      "Allocated: 0.2 GB\n",
      "Cached:    1.5 GB\n"
     ]
    },
    {
     "name": "stderr",
     "output_type": "stream",
     "text": [
      "Using cache found in C:\\Users\\Admin/.cache\\torch\\hub\\pytorch_vision_v0.10.0\n"
     ]
    },
    {
     "name": "stdout",
     "output_type": "stream",
     "text": [
      "=> loading checkpoint './checkpoints/res_noise_model_best.pth.tar'\n",
      "=> loaded checkpoint './checkpoints/res_noise_model_best.pth.tar' (epoch 44)\n",
      "Created model: resnet\n"
     ]
    }
   ],
   "source": [
    "trained_model = models.CNNClassifier('resnet', path, 'temp', resume='./checkpoints/res_noise_model_best.pth.tar', **args)"
   ]
  }
 ],
 "metadata": {
  "interpreter": {
   "hash": "72595be4ea15549328747a62d7632306f334cff511fe79c2306ce58b7e7768b4"
  },
  "kernelspec": {
   "display_name": "Python 3.9.7 ('CV')",
   "language": "python",
   "name": "python3"
  },
  "language_info": {
   "codemirror_mode": {
    "name": "ipython",
    "version": 3
   },
   "file_extension": ".py",
   "mimetype": "text/x-python",
   "name": "python",
   "nbconvert_exporter": "python",
   "pygments_lexer": "ipython3",
   "version": "3.9.7"
  },
  "orig_nbformat": 4
 },
 "nbformat": 4,
 "nbformat_minor": 2
}
