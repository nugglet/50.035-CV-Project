{
 "cells": [
  {
   "cell_type": "code",
   "execution_count": 5,
   "metadata": {},
   "outputs": [],
   "source": [
    "import models\n",
    "\n",
    "import os\n",
    "import torch\n",
    "\n",
    "# Global Vars\n",
    "path = '../Datasets/ImageNet-Sketch/sketch'\n",
    "\n",
    "args = { 'val_data_path': '../Datasets/Custom/Imagenet-Sketch',\n",
    "        'batch_size': 32,\n",
    "        'num_epochs' : 1,\n",
    "        'print_every': 500\n",
    "}\n",
    "\n",
    "# boolean params 'colour_distort' 'gaussian_noise' 'gaussian_blur' to select filter"
   ]
  },
  {
   "cell_type": "code",
   "execution_count": 6,
   "metadata": {},
   "outputs": [
    {
     "name": "stdout",
     "output_type": "stream",
     "text": [
      "CUDA available\n",
      "NVIDIA GeForce RTX 3060 Ti\n",
      "Memory Usage:\n",
      "Allocated: 0.2 GB\n",
      "Cached:    0.2 GB\n"
     ]
    },
    {
     "name": "stderr",
     "output_type": "stream",
     "text": [
      "Using cache found in C:\\Users\\Admin/.cache\\torch\\hub\\pytorch_vision_v0.10.0\n"
     ]
    },
    {
     "name": "stdout",
     "output_type": "stream",
     "text": [
      "Created model: resnet with pre-processing filter.\n",
      "=> no checkpoint found at 'None'\n",
      "Epoch 0/0\n",
      "----------\n",
      "Epoch: [0][   0/1273]\tTime 11.623 (11.623)\tData  4.306 ( 4.306)\tLoss 0.0000e+00 (0.0000e+00)\tAcc@1   0.00 (  0.00)\tAcc@3   0.00 (  0.00)\n",
      "Epoch: [0][ 500/1273]\tTime  0.021 ( 0.223)\tData  0.000 ( 0.009)\tLoss 1.2495e+00 (1.4196e+00)\tAcc@1   3.12 (  5.00)\tAcc@3   9.38 ( 10.75)\n",
      "Epoch: [0][1000/1273]\tTime  0.021 ( 0.213)\tData  0.000 ( 0.005)\tLoss 9.9772e-01 (1.2581e+00)\tAcc@1  25.00 ( 10.03)\tAcc@3  40.62 ( 19.00)\n",
      "Test: [  0/319]\tTime  4.298 ( 4.298)\tLoss 4.0245e+00 (4.0245e+00)\tAcc@1  15.62 ( 15.62)\tAcc@3  40.62 ( 40.62)\n",
      " *   Acc@1 21.104 Acc@3 35.803\n",
      "Epoch 0: completed in 5.16 minutes\n",
      "Training Complete in 5.16 minutes\n"
     ]
    }
   ],
   "source": [
    "# ResNet Basic\n",
    "res_model_basic = models.CNNClassifier('resnet', path, 'res_basic', **args)\n",
    "res_model_basic.train()"
   ]
  },
  {
   "cell_type": "code",
   "execution_count": 8,
   "metadata": {},
   "outputs": [
    {
     "name": "stdout",
     "output_type": "stream",
     "text": [
      "Test: [  0/319]\tTime  4.351 ( 4.351)\tLoss 3.5504e+00 (3.5504e+00)\tAcc@1  31.25 ( 31.25)\tAcc@3  53.12 ( 53.12)\n",
      " *   Acc@1 21.104 Acc@3 35.803\n"
     ]
    },
    {
     "data": {
      "text/plain": [
       "tensor(21.1043, device='cuda:0')"
      ]
     },
     "execution_count": 8,
     "metadata": {},
     "output_type": "execute_result"
    }
   ],
   "source": [
    "res_model_basic.validate()"
   ]
  },
  {
   "cell_type": "code",
   "execution_count": null,
   "metadata": {},
   "outputs": [],
   "source": [
    "# AlexNet Basic\n",
    "alex_model_basic = models.CNNClassifier('alexnet', path, 'alex_basic', **args)\n",
    "alex_model_basic.train()"
   ]
  },
  {
   "cell_type": "code",
   "execution_count": null,
   "metadata": {},
   "outputs": [],
   "source": [
    "alex_model_basic.validate()"
   ]
  },
  {
   "cell_type": "code",
   "execution_count": null,
   "metadata": {},
   "outputs": [],
   "source": [
    "# ResNet with colour distortion\n",
    "res_model_colour = models.CNNClassifier('resnet', path, 'res_colour', colour_distort=True, **args)\n",
    "res_model_colour.train()"
   ]
  },
  {
   "cell_type": "code",
   "execution_count": null,
   "metadata": {},
   "outputs": [],
   "source": [
    "res_model_colour.validate()"
   ]
  },
  {
   "cell_type": "code",
   "execution_count": null,
   "metadata": {},
   "outputs": [],
   "source": [
    "# AlexNet with colour distortion\n",
    "alex_model_colour = models.CNNClassifier('alexnet', path, 'alex_colour', colour_distort=True, **args)\n",
    "alex_model_colour.train()"
   ]
  },
  {
   "cell_type": "code",
   "execution_count": null,
   "metadata": {},
   "outputs": [],
   "source": [
    "alex_model_colour.validate()"
   ]
  },
  {
   "cell_type": "code",
   "execution_count": null,
   "metadata": {},
   "outputs": [],
   "source": [
    "# ResNet with Gaussian Blur\n",
    "res_model_blur = models.CNNClassifier('resnet', path, 'res_blur', gaussian_blur=True, **args)\n",
    "res_model_blur.train()"
   ]
  },
  {
   "cell_type": "code",
   "execution_count": null,
   "metadata": {},
   "outputs": [],
   "source": [
    "res_model_blur.validate()"
   ]
  },
  {
   "cell_type": "code",
   "execution_count": null,
   "metadata": {},
   "outputs": [],
   "source": [
    "# AlexNet with Gaussian Blur\n",
    "alex_model_blur = models.CNNClassifier('alexnet', path, 'alex_blur', gaussian_blur=True, **args)\n",
    "alex_model_blur.train()"
   ]
  },
  {
   "cell_type": "code",
   "execution_count": null,
   "metadata": {},
   "outputs": [],
   "source": [
    "alex_model_blur.validate()"
   ]
  },
  {
   "cell_type": "code",
   "execution_count": null,
   "metadata": {},
   "outputs": [],
   "source": [
    "# ResNet with Gaussian Noise\n",
    "res_model_noise = models.CNNClassifier('resnet', path, 'res_noise', gaussian_noise=True, **args)\n",
    "res_model_noise.train()"
   ]
  },
  {
   "cell_type": "code",
   "execution_count": null,
   "metadata": {},
   "outputs": [],
   "source": [
    "res_model_noise.validate()"
   ]
  },
  {
   "cell_type": "code",
   "execution_count": null,
   "metadata": {},
   "outputs": [],
   "source": [
    "# AlexNet with Gaussian Noise\n",
    "alex_model_noise = models.CNNClassifier('alexnet', path, 'alex_noise', gaussian_noise=True, **args)\n",
    "alex_model_noise.train()"
   ]
  },
  {
   "cell_type": "code",
   "execution_count": null,
   "metadata": {},
   "outputs": [],
   "source": [
    "alex_model_noise.validate()"
   ]
  }
 ],
 "metadata": {
  "interpreter": {
   "hash": "72595be4ea15549328747a62d7632306f334cff511fe79c2306ce58b7e7768b4"
  },
  "kernelspec": {
   "display_name": "cv",
   "language": "python",
   "name": "cv"
  },
  "language_info": {
   "codemirror_mode": {
    "name": "ipython",
    "version": 3
   },
   "file_extension": ".py",
   "mimetype": "text/x-python",
   "name": "python",
   "nbconvert_exporter": "python",
   "pygments_lexer": "ipython3",
   "version": "3.9.7"
  },
  "orig_nbformat": 4
 },
 "nbformat": 4,
 "nbformat_minor": 2
}
