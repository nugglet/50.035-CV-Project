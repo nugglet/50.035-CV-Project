{
 "cells": [
  {
   "cell_type": "code",
   "execution_count": null,
   "metadata": {},
   "outputs": [],
   "source": [
    "import models\n",
    "\n",
    "# Global Vars\n",
    "path = '../Datasets/ImageNet-Sketch/sketch'\n",
    "\n",
    "args = { 'val_data_path': '../Datasets/Custom/Imagenet-Sketch',\n",
    "        'batch_size': 32,\n",
    "        'num_epochs' : 50,\n",
    "        'print_every': 500\n",
    "}"
   ]
  },
  {
   "cell_type": "code",
   "execution_count": null,
   "metadata": {},
   "outputs": [],
   "source": [
    "# ResNet with colour distortion\n",
    "res_model_blur = models.CNNClassifier('resnet', path, 'res_noise', gaussian_noise=True, **args)\n",
    "res_model_blur.train()"
   ]
  },
  {
   "cell_type": "code",
   "execution_count": null,
   "metadata": {},
   "outputs": [],
   "source": [
    "res_model_blur.validate()"
   ]
  },
  {
   "cell_type": "code",
   "execution_count": null,
   "metadata": {},
   "outputs": [],
   "source": [
    "# # Load Model if needed and validate on validation set\n",
    "# trained_model = models.CNNClassifier('resnet', path, 'temp', resume='./checkpoints/res_noise_model_best.pth.tar', **args)\n",
    "# trained_model.model.eval()\n"
   ]
  }
 ],
 "metadata": {
  "interpreter": {
   "hash": "72595be4ea15549328747a62d7632306f334cff511fe79c2306ce58b7e7768b4"
  },
  "kernelspec": {
   "display_name": "Python 3.9.7 ('CV')",
   "language": "python",
   "name": "python3"
  },
  "language_info": {
   "codemirror_mode": {
    "name": "ipython",
    "version": 3
   },
   "file_extension": ".py",
   "mimetype": "text/x-python",
   "name": "python",
   "nbconvert_exporter": "python",
   "pygments_lexer": "ipython3",
   "version": "3.9.7"
  },
  "orig_nbformat": 4
 },
 "nbformat": 4,
 "nbformat_minor": 2
}
