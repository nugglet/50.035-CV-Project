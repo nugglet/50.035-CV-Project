version https://git-lfs.github.com/spec/v1
oid sha256:3b51872b0ee074a68975ba65c2fa2e5b23b711e68313689439afb5ae880942bf
size 134877211
