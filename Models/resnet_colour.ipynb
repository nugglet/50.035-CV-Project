{
 "cells": [
  {
   "cell_type": "code",
   "execution_count": null,
   "metadata": {},
   "outputs": [],
   "source": [
    "import models\n",
    "\n",
    "# Global Vars\n",
    "path = '../Datasets/ImageNet-Sketch/sketch'\n",
    "\n",
    "args = { 'val_data_path': '../Datasets/Custom/Imagenet-Sketch',\n",
    "        'batch_size': 32,\n",
    "        'num_epochs' : 50,\n",
    "        'print_every': 500\n",
    "}"
   ]
  },
  {
   "cell_type": "code",
   "execution_count": null,
   "metadata": {},
   "outputs": [],
   "source": [
    "# ResNet with colour distortion\n",
    "res_model_colour = models.CNNClassifier('resnet', path, 'res_colour', colour_distort=True, **args)\n",
    "res_model_colour.train()"
   ]
  },
  {
   "cell_type": "code",
   "execution_count": null,
   "metadata": {},
   "outputs": [],
   "source": [
    "res_model_colour.validate()"
   ]
  }
 ],
 "metadata": {
  "language_info": {
   "name": "python"
  },
  "orig_nbformat": 4
 },
 "nbformat": 4,
 "nbformat_minor": 2
}
